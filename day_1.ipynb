{
 "cells": [
  {
   "cell_type": "markdown",
   "id": "fba8195f-a66a-4190-8990-16a38f9e4047",
   "metadata": {},
   "source": [
    "# Day 1"
   ]
  },
  {
   "cell_type": "code",
   "execution_count": 99,
   "id": "f758017b-c2b2-483a-903e-134d20866a91",
   "metadata": {
    "scrolled": true
   },
   "outputs": [
    {
     "data": {
      "text/plain": [
       "54561"
      ]
     },
     "execution_count": 99,
     "metadata": {},
     "output_type": "execute_result"
    }
   ],
   "source": [
    "input=(open('day_1_input.txt',mode='r').read()).split('\\n')\n",
    "\n",
    "calibration_values=[]\n",
    "for x in input:\n",
    "    digits=''\n",
    "    for y in x:\n",
    "        if y.isdigit():\n",
    "            digits+=y\n",
    "    calibration_values.append(digits)\n",
    "\n",
    "total=0\n",
    "for code in calibration_values:\n",
    "    if len(code)==0:\n",
    "        total+=0\n",
    "    elif len(code)==1:\n",
    "        total+=int(code+code)\n",
    "    else:\n",
    "        total+=int(code[0]+code[-1])\n",
    "total"
   ]
  },
  {
   "cell_type": "code",
   "execution_count": null,
   "id": "725edfb6-8651-4438-ba98-aef5cb9bde66",
   "metadata": {},
   "outputs": [],
   "source": []
  }
 ],
 "metadata": {
  "kernelspec": {
   "display_name": "Python 3 (ipykernel)",
   "language": "python",
   "name": "python3"
  },
  "language_info": {
   "codemirror_mode": {
    "name": "ipython",
    "version": 3
   },
   "file_extension": ".py",
   "mimetype": "text/x-python",
   "name": "python",
   "nbconvert_exporter": "python",
   "pygments_lexer": "ipython3",
   "version": "3.10.9"
  }
 },
 "nbformat": 4,
 "nbformat_minor": 5
}
